{
  "cells": [
    {
      "cell_type": "markdown",
      "metadata": {
        "id": "view-in-github",
        "colab_type": "text"
      },
      "source": [
        "<a href=\"https://colab.research.google.com/github/HananeNourMoussa/arabic-ner/blob/master/scraper.ipynb\" target=\"_parent\"><img src=\"https://colab.research.google.com/assets/colab-badge.svg\" alt=\"Open In Colab\"/></a>"
      ]
    },
    {
      "cell_type": "markdown",
      "source": [
        "**Installing dependencies**"
      ],
      "metadata": {
        "id": "E8A7GlSq9Ixb"
      }
    },
    {
      "cell_type": "code",
      "execution_count": null,
      "metadata": {
        "id": "vSMehz9BHm4S"
      },
      "outputs": [],
      "source": [
        "!pip install wikipedia"
      ]
    },
    {
      "cell_type": "code",
      "execution_count": null,
      "metadata": {
        "id": "2EtLHQpdaY2W"
      },
      "outputs": [],
      "source": [
        "!pip install selenium"
      ]
    },
    {
      "cell_type": "code",
      "execution_count": null,
      "metadata": {
        "id": "wRy-eTKWa2qv"
      },
      "outputs": [],
      "source": [
        "!pip install webdriver_manager"
      ]
    },
    {
      "cell_type": "markdown",
      "source": [
        "**Connecting to google drive**"
      ],
      "metadata": {
        "id": "oUIe3WxN9Rpe"
      }
    },
    {
      "cell_type": "code",
      "execution_count": null,
      "metadata": {
        "colab": {
          "base_uri": "https://localhost:8080/"
        },
        "id": "BV9mqGbGOlSg",
        "outputId": "8a3beae0-28f1-4dfe-ce39-74e85ee1d196"
      },
      "outputs": [
        {
          "name": "stdout",
          "output_type": "stream",
          "text": [
            "Mounted at /content/gdrive/\n"
          ]
        }
      ],
      "source": [
        "from google.colab import drive\n",
        "\n",
        "drive.mount('/content/gdrive/', force_remount=True)"
      ]
    },
    {
      "cell_type": "markdown",
      "source": [
        "**This code from stack overflow ensures errror-free scraping**"
      ],
      "metadata": {
        "id": "6DAwHCuk9WSM"
      }
    },
    {
      "cell_type": "code",
      "execution_count": null,
      "metadata": {
        "id": "mzMuVCSOlHMu"
      },
      "outputs": [],
      "source": [
        "!apt-get update # to update ubuntu to correctly run apt install\n",
        "!apt install chromium-chromedriver\n",
        "!cp /usr/lib/chromium-browser/chromedriver /usr/bin\n",
        "import sys\n",
        "sys.path.insert(0,'/usr/lib/chromium-browser/chromedriver')\n",
        "from selenium import webdriver\n",
        "chrome_options = webdriver.ChromeOptions()\n",
        "chrome_options.add_argument('--headless')\n",
        "chrome_options.add_argument('--no-sandbox')\n",
        "chrome_options.add_argument('--disable-dev-shm-usage')\n",
        "wd = webdriver.Chrome('chromedriver',options=chrome_options)\n"
      ]
    },
    {
      "cell_type": "code",
      "execution_count": null,
      "metadata": {
        "colab": {
          "base_uri": "https://localhost:8080/"
        },
        "id": "uX4kPHfFZ4Kf",
        "outputId": "ea8402c1-0572-488a-ddcd-26317241545c"
      },
      "outputs": [
        {
          "name": "stdout",
          "output_type": "stream",
          "text": [
            "2022-07-07 15:37:34,564 INFO NumExpr defaulting to 2 threads.\n"
          ]
        }
      ],
      "source": [
        "import wikipedia\n",
        "import time\n",
        "from selenium.webdriver import Chrome\n",
        "from selenium.webdriver.common.by import By\n",
        "from selenium.webdriver.common.keys import Keys\n",
        "from selenium.webdriver.support.ui import WebDriverWait\n",
        "from selenium.webdriver.support import expected_conditions as EC\n",
        "from webdriver_manager.chrome import ChromeDriverManager\n",
        "from webdriver_manager.core.utils import ChromeType\n",
        "import regex as re\n",
        "\n",
        "#setting language to darija\n",
        "wikipedia.set_lang('ary')"
      ]
    },
    {
      "cell_type": "code",
      "execution_count": null,
      "metadata": {
        "id": "SVHn2Ym-f_Ic"
      },
      "outputs": [],
      "source": [
        "#this function was only used in testing\n",
        "def write_content(title, file_path):\n",
        "  article = wikipedia.page(title)\n",
        "  text = article.content\n",
        "  with open(file_path, 'a') as f: \n",
        "        f.write(text)\n"
      ]
    },
    {
      "cell_type": "markdown",
      "source": [
        "**Scraping wikipedia darija articles**"
      ],
      "metadata": {
        "id": "zeTw6cON9utf"
      }
    },
    {
      "cell_type": "code",
      "execution_count": null,
      "metadata": {
        "colab": {
          "background_save": true
        },
        "id": "x7Krq0PSbRYM"
      },
      "outputs": [],
      "source": [
        "#scraping code \n",
        "wait = WebDriverWait(wd,1)\n",
        "wd.get('https://ary.wikipedia.org/wiki/%D8%AE%D8%A7%D8%B5:%D9%83%D9%84_%D8%A7%D9%84%D8%B5%D9%81%D8%AD%D8%A7%D8%AA?from=&to=&namespace=0')\n",
        "i = 1\n",
        "cor = 1\n",
        "articles = 1\n",
        "first = True\n",
        "file_path = '/content/gdrive/MyDrive/wikipedia-darija/corpus_'+str(cor)+'.txt'\n",
        "while (articles <= 5000): \n",
        "  try: \n",
        "    path = '//*[@id=\"mw-content-text\"]/div[3]/ul/li[' + str(i) +']/a'\n",
        "    link = wd.find_element('xpath', path)\n",
        "    title = link.get_attribute('title')\n",
        "    print(str(i) + ' ' +title)\n",
        "    article = wikipedia.page(title)\n",
        "    text = article.content \n",
        "    text = re.sub(r'==.*?==+', ' ', text)\n",
        "    text = text.replace('\\n', ' ')\n",
        "    text += '\\n'\n",
        "    with open(file_path, 'a') as f: \n",
        "      f.write(text)\n",
        "    article += 1\n",
        "    i += 1\n",
        "  except: \n",
        "    i += 1 \n",
        "    pass\n",
        "  try: \n",
        "    if (i == 346): \n",
        "      if first == True: \n",
        "        nxt = wd.find_element('xpath','//*[@id=\"mw-content-text\"]/div[4]/a').get_attribute('href')\n",
        "        first = False\n",
        "      else: \n",
        "        nxt = wd.find_element('xpath','//*[@id=\"mw-content-text\"]/div[4]/a[2]').get_attribute('href')\n",
        "      wd.get(nxt)\n",
        "      print('moved...\\n')\n",
        "      i = 1\n",
        "      cor += 1\n",
        "      #save to file\n",
        "      file_path = '/content/gdrive/MyDrive/wikipedia-darija/corpus_'+str(cor)+'.txt'\n",
        "      \n",
        "  except: \n",
        "    i += 1\n",
        "    pass\n",
        "  if (article == 5001):\n",
        "    break \n",
        "    "
      ]
    },
    {
      "cell_type": "code",
      "execution_count": null,
      "metadata": {
        "id": "0Xd7SDYNaikX"
      },
      "outputs": [],
      "source": [
        "drive.flush_and_unmount"
      ]
    }
  ],
  "metadata": {
    "colab": {
      "name": "scraper.ipynb",
      "provenance": [],
      "authorship_tag": "ABX9TyM0jx3CVqQQdicRTmki3R7R",
      "include_colab_link": true
    },
    "kernelspec": {
      "display_name": "Python 3",
      "name": "python3"
    },
    "language_info": {
      "name": "python"
    }
  },
  "nbformat": 4,
  "nbformat_minor": 0
}
